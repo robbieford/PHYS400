{
 "metadata": {
  "name": "chapter3"
 },
 "nbformat": 3,
 "worksheets": [
  {
   "cells": [
    {
     "cell_type": "code",
     "collapsed": false,
     "input": [
      "#3.1",
      "repeat_lyrics()",
      "",
      "def print_lyrics():",
      "    print \"I'm a lumberjack, and I'm okay.\"",
      "    print \"I sleep all night and I work all day.\"",
      "    ",
      "def repeat_lyrics():",
      "    print_lyrics()",
      "    print_lyrics()"
     ],
     "language": "python",
     "outputs": [
      {
       "ename": "NameError",
       "evalue": "name 'repeat_lyrics' is not defined",
       "output_type": "pyerr",
       "traceback": [
        "\u001b[1;31m---------------------------------------------------------------------------\u001b[0m\n\u001b[1;31mNameError\u001b[0m                                 Traceback (most recent call last)",
        "\u001b[1;32mc:\\Users\\Robert Campbell\\PHYS400\\<ipython-input-1-3625ca3c6bfe>\u001b[0m in \u001b[0;36m<module>\u001b[1;34m()\u001b[0m\n\u001b[0;32m      1\u001b[0m \u001b[1;31m#3.1\u001b[0m\u001b[1;33m\u001b[0m\u001b[1;33m\u001b[0m\u001b[0m\n\u001b[1;32m----> 2\u001b[1;33m \u001b[0mrepeat_lyrics\u001b[0m\u001b[1;33m(\u001b[0m\u001b[1;33m)\u001b[0m\u001b[1;33m\u001b[0m\u001b[0m\n\u001b[0m\u001b[0;32m      3\u001b[0m \u001b[1;33m\u001b[0m\u001b[0m\n\u001b[0;32m      4\u001b[0m \u001b[1;32mdef\u001b[0m \u001b[0mprint_lyrics\u001b[0m\u001b[1;33m(\u001b[0m\u001b[1;33m)\u001b[0m\u001b[1;33m:\u001b[0m\u001b[1;33m\u001b[0m\u001b[0m\n\u001b[0;32m      5\u001b[0m     \u001b[1;32mprint\u001b[0m \u001b[1;34m\"I'm a lumberjack, and I'm okay.\"\u001b[0m\u001b[1;33m\u001b[0m\u001b[0m\n",
        "\u001b[1;31mNameError\u001b[0m: name 'repeat_lyrics' is not defined"
       ]
      }
     ],
     "prompt_number": 1
    },
    {
     "cell_type": "code",
     "collapsed": false,
     "input": [
      "#3.2",
      "    ",
      "def repeat_lyrics():",
      "    print_lyrics()",
      "    print_lyrics()",
      "    ",
      "",
      "def print_lyrics():",
      "    print \"I'm a lumberjack, and I'm okay.\"",
      "    print \"I sleep all night and I work all day.\"",
      "    ",
      "repeat_lyrics()"
     ],
     "language": "python",
     "outputs": [
      {
       "output_type": "stream",
       "stream": "stdout",
       "text": [
        "I'm a lumberjack, and I'm okay.",
        "I sleep all night and I work all day.",
        "I'm a lumberjack, and I'm okay.",
        "I sleep all night and I work all day."
       ]
      }
     ],
     "prompt_number": 1
    },
    {
     "cell_type": "code",
     "collapsed": false,
     "input": [
      "#3.3",
      "def right_justify(x):",
      "    spaces = ' '*(70-len(x))",
      "    print spaces, x"
     ],
     "language": "python",
     "outputs": [],
     "prompt_number": 3
    },
    {
     "cell_type": "code",
     "collapsed": false,
     "input": [
      "right_justify('allan')"
     ],
     "language": "python",
     "outputs": [
      {
       "output_type": "stream",
       "stream": "stdout",
       "text": [
        "                                                                  allan"
       ]
      }
     ],
     "prompt_number": 4
    },
    {
     "cell_type": "code",
     "collapsed": true,
     "input": [
      "#3.4",
      "def do_twice(f):",
      "    f()",
      "    f()"
     ],
     "language": "python",
     "outputs": [],
     "prompt_number": 5
    },
    {
     "cell_type": "code",
     "collapsed": true,
     "input": [
      "def print_spam():",
      "    print 'spam'"
     ],
     "language": "python",
     "outputs": [],
     "prompt_number": 6
    },
    {
     "cell_type": "code",
     "collapsed": false,
     "input": [
      "do_twice(print_spam)"
     ],
     "language": "python",
     "outputs": [
      {
       "output_type": "stream",
       "stream": "stdout",
       "text": [
        "spam",
        "spam"
       ]
      }
     ],
     "prompt_number": 7
    },
    {
     "cell_type": "code",
     "collapsed": true,
     "input": [
      "def do_twice(f,x):",
      "    f(x)",
      "    f(x)",
      "    "
     ],
     "language": "python",
     "outputs": [],
     "prompt_number": 8
    },
    {
     "cell_type": "code",
     "collapsed": true,
     "input": [
      "def print_twice(x):",
      "    print x",
      "    print x"
     ],
     "language": "python",
     "outputs": [],
     "prompt_number": 9
    },
    {
     "cell_type": "code",
     "collapsed": false,
     "input": [
      "do_twice(print_twice, 'spam')"
     ],
     "language": "python",
     "outputs": [
      {
       "output_type": "stream",
       "stream": "stdout",
       "text": [
        "spam",
        "spam",
        "spam",
        "spam"
       ]
      }
     ],
     "prompt_number": 10
    },
    {
     "cell_type": "code",
     "collapsed": true,
     "input": [
      "def do_four(f,x):",
      "    do_twice(f,x)",
      "    do_twice(f,x)"
     ],
     "language": "python",
     "outputs": [],
     "prompt_number": 11
    },
    {
     "cell_type": "code",
     "collapsed": false,
     "input": [
      "do_four(print_twice, 'hello')"
     ],
     "language": "python",
     "outputs": [
      {
       "output_type": "stream",
       "stream": "stdout",
       "text": [
        "hello",
        "hello",
        "hello",
        "hello",
        "hello",
        "hello",
        "hello",
        "hello"
       ]
      }
     ],
     "prompt_number": 12
    },
    {
     "cell_type": "code",
     "collapsed": false,
     "input": [
      "#3.5",
      "def prnt(x):",
      "    print x,",
      "",
      "def row(n):",
      "    prnt('+')",
      "    for n in range(n):",
      "        do_four(prnt, ' -')",
      "        prnt(' +')",
      "    print",
      "",
      "def col_row(n):",
      "    prnt('|')",
      "    for i in range(n):",
      "        prnt('             |')",
      "    print",
      "",
      "def colmn(n):",
      "    do_four(col_row, n)",
      "",
      "def draw2x2():",
      "    row(2)",
      "    colmn(2)",
      "    row(2)",
      "    colmn(2)",
      "    row(2)"
     ],
     "language": "python",
     "outputs": [],
     "prompt_number": 39
    },
    {
     "cell_type": "code",
     "collapsed": false,
     "input": [
      "draw2x2()"
     ],
     "language": "python",
     "outputs": [
      {
       "output_type": "stream",
       "stream": "stdout",
       "text": [
        "+  -  -  -  -  +  -  -  -  -  +",
        "|              |              |",
        "|              |              |",
        "|              |              |",
        "|              |              |",
        "+  -  -  -  -  +  -  -  -  -  +",
        "|              |              |",
        "|              |              |",
        "|              |              |",
        "|              |              |",
        "+  -  -  -  -  +  -  -  -  -  +"
       ]
      }
     ],
     "prompt_number": 40
    },
    {
     "cell_type": "code",
     "collapsed": true,
     "input": [
      "def draw4x4():",
      "    row(4)",
      "    colmn(4)",
      "    row(4)",
      "    colmn(4)",
      "    row(4)",
      "    colmn(4)",
      "    row(4)",
      "    colmn(4)",
      "    row(4)"
     ],
     "language": "python",
     "outputs": [],
     "prompt_number": 41
    },
    {
     "cell_type": "code",
     "collapsed": false,
     "input": [
      "draw4x4()"
     ],
     "language": "python",
     "outputs": [
      {
       "output_type": "stream",
       "stream": "stdout",
       "text": [
        "+  -  -  -  -  +  -  -  -  -  +  -  -  -  -  +  -  -  -  -  +",
        "|              |              |              |              |",
        "|              |              |              |              |",
        "|              |              |              |              |",
        "|              |              |              |              |",
        "+  -  -  -  -  +  -  -  -  -  +  -  -  -  -  +  -  -  -  -  +",
        "|              |              |              |              |",
        "|              |              |              |              |",
        "|              |              |              |              |",
        "|              |              |              |              |",
        "+  -  -  -  -  +  -  -  -  -  +  -  -  -  -  +  -  -  -  -  +",
        "|              |              |              |              |",
        "|              |              |              |              |",
        "|              |              |              |              |",
        "|              |              |              |              |",
        "+  -  -  -  -  +  -  -  -  -  +  -  -  -  -  +  -  -  -  -  +",
        "|              |              |              |              |",
        "|              |              |              |              |",
        "|              |              |              |              |",
        "|              |              |              |              |",
        "+  -  -  -  -  +  -  -  -  -  +  -  -  -  -  +  -  -  -  -  +"
       ]
      }
     ],
     "prompt_number": 42
    },
    {
     "cell_type": "code",
     "collapsed": true,
     "input": [],
     "language": "python",
     "outputs": []
    }
   ]
  }
 ]
}