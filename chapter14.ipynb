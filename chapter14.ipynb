{
 "metadata": {
  "name": "chapter14"
 },
 "nbformat": 3,
 "worksheets": [
  {
   "cells": [
    {
     "cell_type": "code",
     "collapsed": false,
     "input": [
      "#14.1",
      "import os",
      "",
      "def walk(dir):",
      "    for name in os.listdir(dir):",
      "        path = os.path.join(dir, name)",
      "        ",
      "        if os.path.isfile(path):",
      "            print path",
      "        else:",
      "            walk(path)",
      "",
      "def file_names_in_dir(dir):",
      "    out = []",
      "    for name in os.listdir(dir):",
      "        path = os.path.join(dir,name)",
      "        if os.path.isfile(path):",
      "            out.append(name)",
      "    return out",
      "    ",
      "#walk('C:\\Users\\Robert Campbell\\PHYS400')",
      "print file_names_in_dir('C:\\Users\\Robert Campbell\\PHYS400')"
     ],
     "language": "python",
     "outputs": [
      {
       "output_type": "stream",
       "stream": "stdout",
       "text": [
        "['7_4.py', 'chapter1.ipynb', 'chapter10.ipynb', 'chapter11.ipynb', 'chapter11dict.txt', 'chapter12.ipynb', 'chapter13.ipynb', 'chapter13in.txt', 'chapter13wordslist.txt', 'chapter14.ipynb', 'chapter2.ipynb', 'chapter3.ipynb', 'chapter4.ipynb', 'chapter4.py', 'chapter5.py', 'chapter6.ipynb', 'chapter7.ipynb', 'chapter8.ipynb', 'MyFirstNotebook.ipynb', 'pg74.txt', 'README.md']"
       ]
      }
     ],
     "prompt_number": 10
    },
    {
     "cell_type": "code",
     "collapsed": false,
     "input": [
      "#14.2",
      "def walk_using_builtin(dir):",
      "    for root, dirs, files in os.walk(dir, topdown=False):",
      "        if root == dir:",
      "            for name in files:",
      "                print name",
      "",
      "walk_using_builtin('C:\\Users\\Robert Campbell\\PHYS400')"
     ],
     "language": "python",
     "outputs": [
      {
       "output_type": "stream",
       "stream": "stdout",
       "text": [
        "7_4.py",
        "chapter1.ipynb",
        "chapter10.ipynb",
        "chapter11.ipynb",
        "chapter11dict.txt",
        "chapter12.ipynb",
        "chapter13.ipynb",
        "chapter13in.txt",
        "chapter13wordslist.txt",
        "chapter14.ipynb",
        "chapter2.ipynb",
        "chapter3.ipynb",
        "chapter4.ipynb",
        "chapter4.py",
        "chapter5.py",
        "chapter6.ipynb",
        "chapter7.ipynb",
        "chapter8.ipynb",
        "MyFirstNotebook.ipynb",
        "pg74.txt",
        "README.md"
       ]
      }
     ],
     "prompt_number": 20
    },
    {
     "cell_type": "code",
     "collapsed": true,
     "input": [
      "#14.3",
      "#We did not do exercise 12.4 so I am not sure what this question is asking."
     ],
     "language": "python",
     "outputs": []
    }
   ]
  }
 ]
}