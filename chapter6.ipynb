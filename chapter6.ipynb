{
 "metadata": {
  "name": "chapter6"
 },
 "nbformat": 3,
 "worksheets": [
  {
   "cells": [
    {
     "cell_type": "code",
     "collapsed": true,
     "input": [
      "#6.1",
      "def compare_func(x,y):",
      "    if x>y:",
      "        return 1",
      "    if x == y:",
      "        return 0",
      "    return -1"
     ],
     "language": "python",
     "outputs": [],
     "prompt_number": 2
    },
    {
     "cell_type": "code",
     "collapsed": false,
     "input": [
      "print compare_func(1,0)",
      "print compare_func(0,0)",
      "print compare_func(0,1)"
     ],
     "language": "python",
     "outputs": [
      {
       "output_type": "stream",
       "stream": "stdout",
       "text": [
        "1",
        "0",
        "-1"
       ]
      }
     ],
     "prompt_number": 3
    },
    {
     "cell_type": "code",
     "collapsed": false,
     "input": [
      "#6.2",
      "def hypotenuse(x,y):",
      "    print x*x",
      "    print y*y",
      "    return 0.0",
      "    ",
      "def hypotenuse(x,y):",
      "    print x*x + y*y",
      "    return 0.0",
      "",
      "def hypotenuse(x,y):",
      "    return sqrt(x*x+y*y)"
     ],
     "language": "python",
     "outputs": [],
     "prompt_number": 11
    },
    {
     "cell_type": "code",
     "collapsed": false,
     "input": [
      "hypotenuse(3,4)"
     ],
     "language": "python",
     "outputs": [
      {
       "output_type": "pyout",
       "prompt_number": 12,
       "text": [
        "5.0"
       ]
      }
     ],
     "prompt_number": 12
    },
    {
     "cell_type": "code",
     "collapsed": false,
     "input": [
      "#6.5",
      "def adk(m,n):",
      "    if m == 0:",
      "        return n+1",
      "    if m > 0 and n == 0:",
      "        return adk(m-1,1)",
      "    if m > 0 and n > 0:",
      "        return adk(m-1,adk(m,n-1))"
     ],
     "language": "python",
     "outputs": [],
     "prompt_number": 17
    },
    {
     "cell_type": "code",
     "collapsed": false,
     "input": [
      "adk(3,4)"
     ],
     "language": "python",
     "outputs": [
      {
       "output_type": "pyout",
       "prompt_number": 18,
       "text": [
        "125"
       ]
      }
     ],
     "prompt_number": 18
    },
    {
     "cell_type": "code",
     "collapsed": false,
     "input": [
      "#6.6",
      "def is_palindrome(x):",
      "    if len(x) == 1:",
      "        return True",
      "    if len(x) == 2:",
      "        return x[0] == x[1]",
      "    if x[0] == x[-1]:",
      "        return is_palindrome(x[1:-1])",
      "    return False"
     ],
     "language": "python",
     "outputs": [],
     "prompt_number": 30
    },
    {
     "cell_type": "code",
     "collapsed": false,
     "input": [
      "print is_palindrome('racecar')",
      "print is_palindrome('cat')",
      "print is_palindrome('redeliver')",
      "print is_palindrome('redivider')"
     ],
     "language": "python",
     "outputs": [
      {
       "output_type": "stream",
       "stream": "stdout",
       "text": [
        "True",
        "False",
        "False",
        "True"
       ]
      }
     ],
     "prompt_number": 31
    },
    {
     "cell_type": "code",
     "collapsed": true,
     "input": [],
     "language": "python",
     "outputs": []
    }
   ]
  }
 ]
}