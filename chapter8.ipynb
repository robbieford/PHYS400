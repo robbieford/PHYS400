{
 "metadata": {
  "name": "chapter8"
 },
 "nbformat": 3,
 "worksheets": [
  {
   "cells": [
    {
     "cell_type": "code",
     "collapsed": true,
     "input": [
      "#8.1",
      "def reverse_word(x):",
      "    i = len(x) - 1",
      "    while i >=0:",
      "        print x[i]",
      "        i-=1"
     ],
     "language": "python",
     "outputs": [],
     "prompt_number": 1
    },
    {
     "cell_type": "code",
     "collapsed": false,
     "input": [
      "reverse_word('Hello!')"
     ],
     "language": "python",
     "outputs": [
      {
       "output_type": "stream",
       "stream": "stdout",
       "text": [
        "!",
        "o",
        "l",
        "l",
        "e",
        "H"
       ]
      }
     ],
     "prompt_number": 2
    },
    {
     "cell_type": "code",
     "collapsed": false,
     "input": [
      "#8.2",
      "prefixes = 'JKLMNOPQ'",
      "suffix = 'ack'",
      "for letter in prefixes:",
      "    if letter == 'Q' or letter == 'O':",
      "        print letter + 'u' + suffix",
      "    else:",
      "        print letter + suffix"
     ],
     "language": "python",
     "outputs": [
      {
       "output_type": "stream",
       "stream": "stdout",
       "text": [
        "Jack",
        "Kack",
        "Lack",
        "Mack",
        "Nack",
        "Ouack",
        "Pack",
        "Quack"
       ]
      }
     ],
     "prompt_number": 6
    },
    {
     "cell_type": "code",
     "collapsed": true,
     "input": [
      "#8.4",
      "",
      "def find(word, letter, start):",
      "    index = start",
      "    while index < len(word):",
      "        if word[index] == letter:",
      "            return index",
      "        index +=1",
      "    return -1"
     ],
     "language": "python",
     "outputs": [],
     "prompt_number": 11
    },
    {
     "cell_type": "code",
     "collapsed": false,
     "input": [
      "find('bus', 'b',0)"
     ],
     "language": "python",
     "outputs": [
      {
       "output_type": "pyout",
       "prompt_number": 13,
       "text": [
        "0"
       ]
      }
     ],
     "prompt_number": 13
    },
    {
     "cell_type": "code",
     "collapsed": true,
     "input": [
      "#8.5",
      "def count(word, letter):",
      "    count = 0",
      "    for x in word:",
      "        if x == letter:",
      "            count+=1",
      "    print count"
     ],
     "language": "python",
     "outputs": [],
     "prompt_number": 14
    },
    {
     "cell_type": "code",
     "collapsed": false,
     "input": [
      "count('mississippi', 's')"
     ],
     "language": "python",
     "outputs": [
      {
       "output_type": "stream",
       "stream": "stdout",
       "text": [
        "4"
       ]
      }
     ],
     "prompt_number": 15
    },
    {
     "cell_type": "code",
     "collapsed": true,
     "input": [
      "#8.6",
      "def count2(word, letter):",
      "    index = 0",
      "    count = 0",
      "    while find(word, letter, index) != -1:",
      "        count +=1",
      "        index = find(word,letter, index) + 1",
      "    return count"
     ],
     "language": "python",
     "outputs": [],
     "prompt_number": 22
    },
    {
     "cell_type": "code",
     "collapsed": false,
     "input": [
      "count2('mississippi','s')"
     ],
     "language": "python",
     "outputs": [
      {
       "output_type": "pyout",
       "prompt_number": 23,
       "text": [
        "4"
       ]
      }
     ],
     "prompt_number": 23
    },
    {
     "cell_type": "code",
     "collapsed": false,
     "input": [
      "#8.9",
      "def is_palindrome(word):",
      "    return word == word[::-1]"
     ],
     "language": "python",
     "outputs": [],
     "prompt_number": 25
    },
    {
     "cell_type": "code",
     "collapsed": false,
     "input": [
      "print is_palindrome('racecar')",
      "print is_palindrome('pie')"
     ],
     "language": "python",
     "outputs": [
      {
       "output_type": "stream",
       "stream": "stdout",
       "text": [
        "True",
        "False"
       ]
      }
     ],
     "prompt_number": 29
    },
    {
     "cell_type": "code",
     "collapsed": true,
     "input": [
      "#8.10",
      "#read about strip and replace...",
      "#strip - strips specified characters off of both the front and end of the string",
      "#replace - replaces all instance of a substring within a string with the new substring."
     ],
     "language": "python",
     "outputs": []
    }
   ]
  }
 ]
}