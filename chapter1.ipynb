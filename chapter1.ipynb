{
 "metadata": {
  "name": "chapter1"
 },
 "nbformat": 3,
 "worksheets": [
  {
   "cells": [
    {
     "cell_type": "code",
     "collapsed": false,
     "input": [
      "#1.1a Well structured sentance with invalid english tokens:",
      "# \"Me llamo Robbie.\"",
      "#1.1b Valid tokens and invlid structure.",
      "# \"/My.name?is@Robbie$\""
     ],
     "language": "python",
     "outputs": [],
     "prompt_number": 2
    },
    {
     "cell_type": "code",
     "collapsed": true,
     "input": [
      "#1.2 The python documentation uses google search... cool!"
     ],
     "language": "python",
     "outputs": [],
     "prompt_number": 3
    },
    {
     "cell_type": "code",
     "collapsed": false,
     "input": [
      "help('print')"
     ],
     "language": "python",
     "outputs": [
      {
       "output_type": "stream",
       "stream": "stdout",
       "text": [
        "The ``print`` statement",
        "***********************",
        "",
        "   print_stmt ::= \"print\" ([expression (\",\" expression)* [\",\"]]",
        "                  | \">>\" expression [(\",\" expression)+ [\",\"]])",
        "",
        "``print`` evaluates each expression in turn and writes the resulting",
        "object to standard output (see below).  If an object is not a string,",
        "it is first converted to a string using the rules for string",
        "conversions.  The (resulting or original) string is then written.  A",
        "space is written before each object is (converted and) written, unless",
        "the output system believes it is positioned at the beginning of a",
        "line.  This is the case (1) when no characters have yet been written",
        "to standard output, (2) when the last character written to standard",
        "output is a whitespace character except ``' '``, or (3) when the last",
        "write operation on standard output was not a ``print`` statement. (In",
        "some cases it may be functional to write an empty string to standard",
        "output for this reason.)",
        "",
        "Note: Objects which act like file objects but which are not the built-in",
        "  file objects often do not properly emulate this aspect of the file",
        "  object's behavior, so it is best not to rely on this.",
        "",
        "A ``'\\n'`` character is written at the end, unless the ``print``",
        "statement ends with a comma.  This is the only action if the statement",
        "contains just the keyword ``print``.",
        "",
        "Standard output is defined as the file object named ``stdout`` in the",
        "built-in module ``sys``.  If no such object exists, or if it does not",
        "have a ``write()`` method, a ``RuntimeError`` exception is raised.",
        "",
        "``print`` also has an extended form, defined by the second portion of",
        "the syntax described above. This form is sometimes referred to as",
        "\"``print`` chevron.\" In this form, the first expression after the",
        "``>>`` must evaluate to a \"file-like\" object, specifically an object",
        "that has a ``write()`` method as described above.  With this extended",
        "form, the subsequent expressions are printed to this file object.  If",
        "the first expression evaluates to ``None``, then ``sys.stdout`` is",
        "used as the file for output.",
        ""
       ]
      }
     ],
     "prompt_number": 5
    },
    {
     "cell_type": "code",
     "collapsed": false,
     "input": [
      "#1.4",
      "distance = 10/1.61",
      "time = 43.5",
      "print('Time per mile (in minutes):')",
      "print(time/distance)",
      "print('Miles per hour')",
      "print(distance/time*60)"
     ],
     "language": "python",
     "outputs": [
      {
       "output_type": "stream",
       "stream": "stdout",
       "text": [
        "Time per mile (in minutes):",
        "7.0035",
        "Miles per hour",
        "8.56714499893"
       ]
      }
     ],
     "prompt_number": 7
    },
    {
     "cell_type": "code",
     "collapsed": true,
     "input": [],
     "language": "python",
     "outputs": []
    }
   ]
  }
 ]
}