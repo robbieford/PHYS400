{
 "metadata": {
  "name": "chapter2"
 },
 "nbformat": 3,
 "worksheets": [
  {
   "cells": [
    {
     "cell_type": "code",
     "collapsed": false,
     "input": [
      "#2.1",
      "zipcode = 02132",
      "print zipcode",
      "print 01",
      "print 010",
      "print 0100",
      "print 01000",
      "#it seems to be counting in bits or hex... something of base 8?"
     ],
     "language": "python",
     "outputs": [
      {
       "output_type": "stream",
       "stream": "stdout",
       "text": [
        "1114",
        "1",
        "8",
        "64",
        "512"
       ]
      }
     ],
     "prompt_number": 6
    },
    {
     "cell_type": "code",
     "collapsed": false,
     "input": [
      "#2.2",
      "5",
      "x=5",
      "x+1"
     ],
     "language": "python",
     "outputs": [
      {
       "output_type": "pyout",
       "prompt_number": 7,
       "text": [
        "6"
       ]
      }
     ],
     "prompt_number": 7
    },
    {
     "cell_type": "code",
     "collapsed": false,
     "input": [
      "print 5",
      "x = 5",
      "print x",
      "print x + 1"
     ],
     "language": "python",
     "outputs": [
      {
       "output_type": "stream",
       "stream": "stdout",
       "text": [
        "5",
        "5",
        "6"
       ]
      }
     ],
     "prompt_number": 9
    },
    {
     "cell_type": "code",
     "collapsed": false,
     "input": [
      "#2.3",
      "width = 17",
      "height = 12.0",
      "deliminater = '.'",
      "print width/2",
      "print type(width/2)",
      "print width/2.0",
      "print type(width/2.0)",
      "print height/3",
      "print type(height/3)",
      "print 1+2*5",
      "print type(1+2*5)",
      "print deliminater * 5",
      "print type(deliminater * 5)"
     ],
     "language": "python",
     "outputs": [
      {
       "output_type": "stream",
       "stream": "stdout",
       "text": [
        "8",
        "<type 'int'>",
        "8.5",
        "<type 'float'>",
        "4.0",
        "<type 'float'>",
        "11",
        "<type 'int'>",
        ".....",
        "<type 'str'>"
       ]
      }
     ],
     "prompt_number": 15
    },
    {
     "cell_type": "code",
     "collapsed": true,
     "input": [],
     "language": "python",
     "outputs": []
    }
   ]
  }
 ]
}