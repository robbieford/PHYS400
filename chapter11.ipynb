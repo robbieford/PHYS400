{
 "metadata": {
  "name": "chapter11"
 },
 "nbformat": 3,
 "worksheets": [
  {
   "cells": [
    {
     "cell_type": "code",
     "collapsed": false,
     "input": [
      "#11.1",
      "def in_my_dict(a):",
      "    f = open('chapter11dict.txt', 'r')",
      "    d = dict()",
      "    for line in f:",
      "        d[line.strip()] = ''",
      "    return a in d",
      "",
      "print in_my_dict('aloha')",
      "print in_my_dict('apple')"
     ],
     "language": "python",
     "outputs": [
      {
       "output_type": "stream",
       "stream": "stdout",
       "text": [
        "False",
        "True"
       ]
      }
     ],
     "prompt_number": 7
    },
    {
     "cell_type": "code",
     "collapsed": false,
     "input": [
      "#11.2",
      "def get(a,b):",
      "    f = open('chapter11dict.txt', 'r')",
      "    d = dict()",
      "    for line in f:",
      "        d[line.strip()] = '1'",
      "    if a in d:",
      "        return d[a]",
      "    return b",
      "",
      "print get('apple', 0)",
      "print get('aloha', 0)"
     ],
     "language": "python",
     "outputs": [
      {
       "output_type": "stream",
       "stream": "stdout",
       "text": [
        "1",
        "0"
       ]
      }
     ],
     "prompt_number": 10
    },
    {
     "cell_type": "code",
     "collapsed": false,
     "input": [
      "#11.3",
      "def create_dict():",
      "    f = open('chapter11dict.txt', 'r')",
      "    d = dict()",
      "    for line in f:",
      "        d[line.strip()] = round(rand())",
      "    return d",
      "",
      "d = create_dict()",
      "",
      "def print_list(d):",
      "    for c in d:",
      "        print c, d[c]",
      "",
      "def print_ordered_list(d):",
      "    lst = []",
      "    for c in d:",
      "        lst.append(c)",
      "    while len(lst) > 0:",
      "        minElement = 0;",
      "        for i in range(len(lst)):",
      "            if lst[i] < lst[minElement]:",
      "                minElement = i",
      "        print lst[minElement], d[lst[minElement]]",
      "        del lst[minElement]",
      "",
      "",
      "print_list(d)",
      "print",
      "print_ordered_list(d)"
     ],
     "language": "python",
     "outputs": [
      {
       "output_type": "stream",
       "stream": "stdout",
       "text": [
        "golf 1.0",
        "apple 0.0",
        "in 0.0",
        "pie 0.0",
        "jump 1.0",
        "violet 1.0",
        "open 1.0",
        "lime 0.0",
        "zip 1.0",
        "young 0.0",
        "mud 0.0",
        "under 1.0",
        "tie 0.0",
        "rice 0.0",
        "banana 1.0",
        "kick 0.0",
        "his 1.0",
        "xylophone 0.0",
        "stop 0.0",
        "water 1.0",
        "now 1.0",
        "dog 1.0",
        "cat 1.0",
        "queue 1.0",
        "fun 1.0",
        "egg 0.0",
        "",
        "apple 0.0",
        "banana 1.0",
        "cat 1.0",
        "dog 1.0",
        "egg 0.0",
        "fun 1.0",
        "golf 1.0",
        "his 1.0",
        "in 0.0",
        "jump 1.0",
        "kick 0.0",
        "lime 0.0",
        "mud 0.0",
        "now 1.0",
        "open 1.0",
        "pie 0.0",
        "queue 1.0",
        "rice 0.0",
        "stop 0.0",
        "tie 0.0",
        "under 1.0",
        "violet 1.0",
        "water 1.0",
        "xylophone 0.0",
        "young 0.0",
        "zip 1.0"
       ]
      }
     ],
     "prompt_number": 32
    },
    {
     "cell_type": "code",
     "collapsed": false,
     "input": [
      "#11.4",
      "def reverse_lookup(d,v):",
      "    lst = []",
      "    for k in d:",
      "        if 0.01 > abs(d[k] - v):",
      "            lst.append(k)",
      "    return lst",
      "",
      "print reverse_lookup(d, 1.0)",
      "print reverse_lookup(d, 0.0)",
      "print reverse_lookup(d, 3.0)",
      "",
      "            "
     ],
     "language": "python",
     "outputs": [
      {
       "output_type": "stream",
       "stream": "stdout",
       "text": [
        "['golf', 'jump', 'violet', 'open', 'zip', 'under', 'banana', 'his', 'water', 'now', 'dog', 'cat', 'queue', 'fun']",
        "['apple', 'in', 'pie', 'lime', 'young', 'mud', 'tie', 'rice', 'kick', 'xylophone', 'stop', 'egg']",
        "[]"
       ]
      }
     ],
     "prompt_number": 33
    },
    {
     "cell_type": "code",
     "collapsed": false,
     "input": [
      "#11.5",
      "def invert_dict(d):",
      "    inv = dict()",
      "    for key in d:",
      "        val = d[key]",
      "        if val not in inv:",
      "            inv[val] = [key]",
      "        else:",
      "            inv[val].append(key)",
      "    return inv",
      "",
      "inv = invert_dict(d)",
      "print_list(inv)"
     ],
     "language": "python",
     "outputs": [
      {
       "output_type": "stream",
       "stream": "stdout",
       "text": [
        "0.0 ['apple', 'in', 'pie', 'lime', 'young', 'mud', 'tie', 'rice', 'kick', 'xylophone', 'stop', 'egg']",
        "1.0 ['golf', 'jump', 'violet', 'open', 'zip', 'under', 'banana', 'his', 'water', 'now', 'dog', 'cat', 'queue', 'fun']"
       ]
      }
     ],
     "prompt_number": 37
    },
    {
     "cell_type": "code",
     "collapsed": false,
     "input": [
      "k = 1.0",
      "x = 0.0",
      "print d.setdefault(k, x)",
      "## I do not understand what this does..."
     ],
     "language": "python",
     "outputs": [
      {
       "output_type": "stream",
       "stream": "stdout",
       "text": [
        "0.0"
       ]
      }
     ],
     "prompt_number": 40
    },
    {
     "cell_type": "code",
     "collapsed": true,
     "input": [],
     "language": "python",
     "outputs": []
    }
   ]
  }
 ]
}