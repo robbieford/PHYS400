{
 "metadata": {
  "name": "chapter12"
 },
 "nbformat": 3,
 "worksheets": [
  {
   "cells": [
    {
     "cell_type": "code",
     "collapsed": true,
     "input": [
      "#12.1",
      "def sumall(*args):",
      "    sum = 0",
      "    for x in args:",
      "        sum += x",
      "    return sum"
     ],
     "language": "python",
     "outputs": [],
     "prompt_number": 3
    },
    {
     "cell_type": "code",
     "collapsed": false,
     "input": [
      "print sumall(1,2,3,4,5,6,7,8,9)"
     ],
     "language": "python",
     "outputs": [
      {
       "output_type": "stream",
       "stream": "stdout",
       "text": [
        "45"
       ]
      }
     ],
     "prompt_number": 4
    },
    {
     "cell_type": "code",
     "collapsed": true,
     "input": [
      "#12.2",
      "words = ['all', 'pie', 'tie', 'lie', 'sky', 'dye', 'hello', 'me']",
      "",
      "def sort_by_length(words):",
      "    t = []",
      "    for word in words:",
      "        t.append((len(word),word))",
      "    ",
      "    t.sort(reverse=True)",
      "    ",
      "    res = []",
      "    for length, word, in t:",
      "        print length, word",
      "        res.append(word)",
      "    return res",
      "#random...?"
     ],
     "language": "python",
     "outputs": [],
     "prompt_number": 8
    },
    {
     "cell_type": "code",
     "collapsed": false,
     "input": [
      "print sort_by_length(words)"
     ],
     "language": "python",
     "outputs": [
      {
       "output_type": "stream",
       "stream": "stdout",
       "text": [
        "5 hello",
        "3 tie",
        "3 sky",
        "3 pie",
        "3 lie",
        "3 dye",
        "3 all",
        "2 me",
        "['hello', 'tie', 'sky', 'pie', 'lie', 'dye', 'all', 'me']"
       ]
      }
     ],
     "prompt_number": 9
    },
    {
     "cell_type": "code",
     "collapsed": false,
     "input": [
      "#12.3",
      "def most_frequent(word):",
      "    sol = []",
      "    for letter in word:",
      "        sol.append(letter)",
      "    sol.sort",
      "    out = []",
      "    index = 0",
      "    while index < len(sol):",
      "        num = sol.count(sol[index])",
      "        out.append([num, sol[index]])",
      "        index +=num",
      "    out.sort(reverse=True)",
      "    ",
      "    for i in range(len(out)):",
      "        print out[i][1], '*', out[i][0]",
      "        ",
      "#    return out",
      "",
      "most_frequent('mississippi')"
     ],
     "language": "python",
     "outputs": [
      {
       "output_type": "stream",
       "stream": "stdout",
       "text": [
        "s * 4",
        "i * 4",
        "p * 2",
        "m * 1"
       ]
      }
     ],
     "prompt_number": 16
    },
    {
     "cell_type": "code",
     "collapsed": true,
     "input": [],
     "language": "python",
     "outputs": []
    }
   ]
  }
 ]
}