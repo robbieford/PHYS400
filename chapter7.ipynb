{
 "metadata": {
  "name": "chapter7"
 },
 "nbformat": 3,
 "worksheets": [
  {
   "cells": [
    {
     "cell_type": "code",
     "collapsed": false,
     "input": [
      "#7.1",
      "def print_n(s,n):",
      "    while n != 0:",
      "        print s",
      "        n -= 1"
     ],
     "language": "python",
     "outputs": [],
     "prompt_number": 3
    },
    {
     "cell_type": "code",
     "collapsed": false,
     "input": [
      "print_n('pie', 5)"
     ],
     "language": "python",
     "outputs": [
      {
       "output_type": "stream",
       "stream": "stdout",
       "text": [
        "pie",
        "pie",
        "pie",
        "pie",
        "pie"
       ]
      }
     ],
     "prompt_number": 5
    },
    {
     "cell_type": "code",
     "collapsed": false,
     "input": [
      "#7.2",
      "def square_root(a):",
      "    x = a/2.0",
      "    y = (x+(a/x))/2.0",
      "    epsilon = x-y",
      "    while epsilon > 0.0000001:",
      "        x = y",
      "        y = (x+(a/x))/2.0",
      "        epsilon = abs(x-y)",
      "    return y",
      "        ",
      "print square_root(400)",
      "    "
     ],
     "language": "python",
     "outputs": [
      {
       "output_type": "stream",
       "stream": "stdout",
       "text": [
        "20.0"
       ]
      }
     ],
     "prompt_number": 20
    },
    {
     "cell_type": "code",
     "collapsed": false,
     "input": [
      "#7.4",
      "# In file called 7_4.py since we cant to input from the user in the notebook..."
     ],
     "language": "python",
     "outputs": [],
     "prompt_number": 27
    },
    {
     "cell_type": "code",
     "collapsed": true,
     "input": [],
     "language": "python",
     "outputs": []
    }
   ]
  }
 ]
}