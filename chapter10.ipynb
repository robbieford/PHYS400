{
 "metadata": {
  "name": "chapter10"
 },
 "nbformat": 3,
 "worksheets": [
  {
   "cells": [
    {
     "cell_type": "code",
     "collapsed": true,
     "input": [
      "#10.1",
      "def list_sum(a):",
      "    sum = 0",
      "    out = []",
      "    for i in a:",
      "        sum = i + sum",
      "        out.append(sum)",
      "    return out"
     ],
     "language": "python",
     "outputs": [],
     "prompt_number": 2
    },
    {
     "cell_type": "code",
     "collapsed": true,
     "input": [
      "h = [1,2,3,4,5,6,7]"
     ],
     "language": "python",
     "outputs": [],
     "prompt_number": 13
    },
    {
     "cell_type": "code",
     "collapsed": false,
     "input": [
      "list_sum(h)"
     ],
     "language": "python",
     "outputs": [
      {
       "output_type": "pyout",
       "prompt_number": 4,
       "text": [
        "[1, 3, 6, 10, 15, 21, 28]"
       ]
      }
     ],
     "prompt_number": 4
    },
    {
     "cell_type": "code",
     "collapsed": true,
     "input": [
      "#10.2",
      "def delete_head_tail(a):",
      "    del a[0]",
      "    del a[-1]"
     ],
     "language": "python",
     "outputs": [],
     "prompt_number": 5
    },
    {
     "cell_type": "code",
     "collapsed": false,
     "input": [
      "delete_head_tail(h)",
      "print h"
     ],
     "language": "python",
     "outputs": [
      {
       "output_type": "stream",
       "stream": "stdout",
       "text": [
        "[2, 3, 4, 5, 6]"
       ]
      }
     ],
     "prompt_number": 14
    },
    {
     "cell_type": "code",
     "collapsed": false,
     "input": [
      "#10.3",
      "def is_sorted(a):",
      "    for i in range(len(a) - 1):",
      "        if a[i] > a[i+1]:",
      "            return False",
      "    return True"
     ],
     "language": "python",
     "outputs": [],
     "prompt_number": 16
    },
    {
     "cell_type": "code",
     "collapsed": false,
     "input": [
      "h = [1,2,3,4,5,6,7]",
      "a = [1,3,5,4,6,7,3]",
      "print is_sorted(h)",
      "print is_sorted(a)"
     ],
     "language": "python",
     "outputs": [
      {
       "output_type": "stream",
       "stream": "stdout",
       "text": [
        "True",
        "False"
       ]
      }
     ],
     "prompt_number": 17
    },
    {
     "cell_type": "code",
     "collapsed": false,
     "input": [
      "#10.4",
      "def is_anigram(a,b):",
      "    if len(a) != len(b):",
      "        return False",
      "    for letter in a:",
      "        if letter not in b:",
      "            return False",
      "    return True",
      "",
      "print is_anigram('hello', 'olleh')",
      "print is_anigram('pie', 'lie')"
     ],
     "language": "python",
     "outputs": [
      {
       "output_type": "stream",
       "stream": "stdout",
       "text": [
        "True",
        "False"
       ]
      }
     ],
     "prompt_number": 26
    },
    {
     "cell_type": "code",
     "collapsed": true,
     "input": [],
     "language": "python",
     "outputs": []
    }
   ]
  }
 ]
}